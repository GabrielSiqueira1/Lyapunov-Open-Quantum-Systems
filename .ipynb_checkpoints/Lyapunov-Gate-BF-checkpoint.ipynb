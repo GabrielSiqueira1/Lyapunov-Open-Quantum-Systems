{
 "cells": [
  {
   "cell_type": "code",
   "execution_count": 1,
   "id": "c281fb25-0d6a-4709-8371-84fe30138a59",
   "metadata": {},
   "outputs": [],
   "source": [
    "# Bibliotecas necessárias para o experimento\n",
    "\n",
    "import numpy as np\n",
    "from random import randint"
   ]
  },
  {
   "cell_type": "code",
   "execution_count": 2,
   "id": "7bae10e9-e05a-4d8a-a271-5f11a724e9a2",
   "metadata": {},
   "outputs": [],
   "source": [
    "def S(Ut, Uf, X):\n",
    "    W = np.dot(np.transpose(Uf), Ut)\n",
    "    T = np.transpose(W)\n",
    "    A = np.dot(np.transpose(Ut), np.transpose(X))\n",
    "    C = np.dot(A, np.transpose(Uf))\n",
    "    L = W - np.identity(3) - 1/2*(W - np.identity(3))**2\n",
    "    S = 2*np.trace(np.dot((np.dot(-T, C) + 2*C),L))\n",
    "    #S = 2*np.trace(np.dot((1/2*np.dot(T, C) + 1/2*np.dot(-T, C) + 2*C),L))\n",
    "    return S"
   ]
  },
  {
   "cell_type": "code",
   "execution_count": 3,
   "id": "a74d139d-10c7-4292-91fc-fd488e6c47c9",
   "metadata": {},
   "outputs": [],
   "source": [
    "def field(Ut, Uf, a, h, A, B):\n",
    "    SA = S(Ut, Uf, A)\n",
    "    SB = S(Ut, Uf, B)\n",
    "    f = -a*SA-h*(SB/SA)\n",
    "    return f"
   ]
  },
  {
   "cell_type": "code",
   "execution_count": 4,
   "id": "36393204-3d86-4d66-848d-307116ef1180",
   "metadata": {},
   "outputs": [],
   "source": [
    "def lind(u, Ut, Uf, t, lbda):\n",
    "    Ax = [[0, 0, 0],[0, 0, -1], [0, 1, 0]]\n",
    "    Ay = [[0, 0, 1],[0, 0, 0], [-1, 0, 0]]\n",
    "    Az = [[0, -1, 0],[1, 0, 0], [0, 0, 0]]\n",
    "    B = [[-1*lbda, 0, 0],[0, -1*lbda, 0], [0, 0, -2*lbda]]\n",
    "    if t == 0:\n",
    "        fx=10.28\n",
    "        fy=10.73\n",
    "        fz=40\n",
    "        F=np.dot(fx,Ax)+np.dot(fy,Ay)+np.dot(fz,Az)+B\n",
    "    else:\n",
    "        fx=field(Ut, Uf, u[0], u[3], Ax, B)\n",
    "        fy=field(Ut, Uf, u[1], u[4], Ay, B)\n",
    "        fz=field(Ut, Uf, u[2], u[5], Az, B)\n",
    "        P=1000\n",
    "\n",
    "        if abs(fx) > P:\n",
    "            if fx < 0:\n",
    "                fx = -P\n",
    "            else:\n",
    "                fx = P\n",
    "        if abs(fy) > P:\n",
    "            if fy < 0:\n",
    "                fy = -P\n",
    "            else:\n",
    "                fy = P\n",
    "        if abs(fy) > P:\n",
    "            if fy < 0:\n",
    "                fy = -P\n",
    "            else:\n",
    "                fy = P\n",
    "\n",
    "        F=np.dot(fx,Ax)+np.dot(fy,Ay)+np.dot(fz,Az)+B\n",
    "        \t\n",
    "    return fx,fy,fz,F"
   ]
  },
  {
   "cell_type": "code",
   "execution_count": 5,
   "id": "ea216581-4d46-45e5-9de9-33fe47444a23",
   "metadata": {},
   "outputs": [],
   "source": [
    "def rungeKutta(u, Ut, Uf, h, t, lbda):\n",
    "    fx,fy,fz,k1 = lind(u, Ut, Uf, t, lbda)\n",
    "    k1 = np.dot(k1,Ut)\n",
    "    fx,fy,fz,k2 = lind(u, (Ut+h/2*k1), Uf, t, lbda)\n",
    "    k2 = np.dot(k2,(Ut+h/2*k1))\n",
    "    fx,fy,fz,k3 = lind(u, (Ut+h/2*k2), Uf, t, lbda)\n",
    "    k3 = np.dot(k3,(Ut+h/2*k2))\n",
    "    fx,fy,fz,k4 = lind(u, (Ut+h*k3), Uf, t, lbda)\n",
    "    k4 = np.dot(k4,(Ut+h*k3))\n",
    "    a = fx;\n",
    "    b = fy;\n",
    "    c = fz;\n",
    "    result = Ut+(h/6)*(k1+2*k2+2*k3+k4);\n",
    "    return a,b,c,result"
   ]
  },
  {
   "cell_type": "code",
   "execution_count": 6,
   "id": "29ff5391-7eea-4c95-936e-2a4220591a25",
   "metadata": {},
   "outputs": [
    {
     "name": "stdout",
     "output_type": "stream",
     "text": [
      "u = [9, 320, 34, 0.35, 0.31, 0.34]\n",
      "O rho desejado é: [[0.5, (0.35355339059327373+0.35355339059327373j)], [(0.35355339059327373-0.35355339059327373j), 0.5]]\n",
      "O rho alcançado foi: [[0.5001431215748569, (0.49955962691421246-0.0004979213025233556j)], [(0.49955962691421246+0.0004979213025233556j), 0.49985687842514315]]\n",
      "A fidelidade do experimento é de: (0.9999999795162143+0j)\n",
      "O vetor U alcançado foi: [[ 9.99119254e-01 -1.00139653e-03 -2.82532921e-04]\n",
      " [ 9.95842605e-04  9.98982266e-01 -4.04344934e-03]\n",
      " [ 2.86243150e-04  4.03094359e-03  9.98102727e-01]]\n",
      "A distância encontrada, ao final do experimento foi: 1.1704930820855073\n"
     ]
    }
   ],
   "source": [
    "#u = [70, 106, 66, 0.35, 0.31, 0.34] # Hadamard\n",
    "#u = [61, 116, 397, 0.35, 0.31, 0.34] # Pauli-X\n",
    "#u = [275, 41, 58, 0.35, 0.31, 0.34] # Pauli-Z\n",
    "#u = [36, 272, 81, 0.35, 0.31, 0.34] # Pauli-Y\n",
    "u = [randint(1,400), randint(1,400), randint(1,400), 0.35, 0.31, 0.34]\n",
    "print(f'u = {u}')\n",
    "\n",
    "Ut = [[1, 0, 0], [0, 1, 0], [0, 0, 1]]\n",
    "#Uf = [[0, 0, 1], [0, -1, 0], [1, 0, 0]] # Hadamard\n",
    "#Uf = [[1, 0, 0], [0, -1, 0], [0, 0, -1]] # Pauli-X\n",
    "#Uf = [[-1, 0, 0], [0, -1, 0], [0, 0, 1]] # Pauli-Z\n",
    "#Uf = [[-1, 0, 0], [0, 1, 0], [0, 0, -1]] # Pauli-Y\n",
    "#Uf = [[0, -1, 0],[-1, 0, 0], [0, 0, 1]] # Phase(S,P)\n",
    "Uf = [[1/np.sqrt(2), -1/np.sqrt(2), 0], [-1/np.sqrt(2), 1/np.sqrt(2), 0], [0, 0, 1]] # Porta T\n",
    "\n",
    "h=0.001\n",
    "t=0\n",
    "i=0\n",
    "lbda=0.01\n",
    "distance_vector = []\n",
    "   \n",
    "while t <= 100:\n",
    "    a,b,c,Ut = rungeKutta(u, Ut, Uf, h, t, lbda)\n",
    "    D = np.linalg.norm(Ut-Uf)**2\n",
    "    distance_vector.append(D)\n",
    "    t += 1\n",
    "\n",
    "r0 = [[1], [0], [0]]\n",
    "rf = np.dot(Uf, r0)\n",
    "pf = [[1/2*(1+rf[2][0]), 1/2*(rf[0][0]-1j*rf[1][0])], [1/2*(rf[0][0]+1j*rf[1][0]), 1/2*(1-rf[2][0])]]\n",
    "print(f'O rho desejado é: {pf}')\n",
    "\n",
    "rt = np.dot(Ut, r0)\n",
    "pt = [[1/2*(1+rt[2][0]), 1/2*(rt[0][0]-1j*rt[1][0])], [1/2*(rt[0][0]+1j*rt[1][0]), 1/2*(1-rt[2][0])]]\n",
    "\n",
    "print(f'O rho alcançado foi: {pt}')\n",
    "print(f'A fidelidade do experimento é de: {np.trace(np.sqrt(np.sqrt(pt)*pf*np.sqrt(pt)))**2}')\n",
    "print(f'O vetor U alcançado foi: {Ut}')\n",
    "print(f'A distância encontrada, ao final do experimento foi: {D}')"
   ]
  },
  {
   "cell_type": "code",
   "execution_count": 7,
   "id": "6248a7e4-73b9-478c-a230-7132e35fb427",
   "metadata": {},
   "outputs": [
    {
     "name": "stdout",
     "output_type": "stream",
     "text": [
      "u = [192, 346, 157, 0.35, 0.31, 0.34]\n",
      "O rho desejado é: [[0.5, (0.35355339059327373+0.35355339059327373j)], [(0.35355339059327373-0.35355339059327373j), 0.5]]\n",
      "O rho alcançado foi: [[0.49964097781948297, (0.5070445925949719-0.003615467948063817j)], [(0.5070445925949719+0.003615467948063817j), 0.5003590221805171]]\n",
      "A fidelidade do experimento é de: (0.9999998711030572+0j)\n",
      "O vetor U alcançado foi: [[ 1.01408919e+00 -8.83083171e-03  6.08760575e-04]\n",
      " [ 7.23093590e-03  1.00006504e+00  1.48556884e-03]\n",
      " [-7.18044361e-04 -6.98533509e-04  1.01241630e+00]]\n",
      "A distância encontrada, ao final do experimento foi: 1.178088156012276\n"
     ]
    }
   ],
   "source": [
    "#u = [70, 106, 66, 0.35, 0.31, 0.34] # Hadamard\n",
    "#u = [61, 116, 397, 0.35, 0.31, 0.34] # Pauli-X\n",
    "#u = [275, 41, 58, 0.35, 0.31, 0.34] # Pauli-Z\n",
    "u = [randint(1,400), randint(1,400), randint(1,400), 0.35, 0.31, 0.34]\n",
    "print(f'u = {u}')\n",
    "\n",
    "Ut = [[1, 0, 0], [0, 1, 0], [0, 0, 1]]\n",
    "#Uf = [[0, 0, 1], [0, -1, 0], [1, 0, 0]] # Hadamard\n",
    "#Uf = [[1, 0, 0], [0, -1, 0], [0, 0, -1]] # Pauli-X\n",
    "#Uf = [[-1, 0, 0], [0, -1, 0], [0, 0, 1]] # Pauli-Z\n",
    "#Uf = [[-1, 0, 0], [0, 1, 0], [0, 0, -1]] # Pauli-Y\n",
    "#Uf = [[0, -1, 0],[-1, 0, 0], [0, 0, 1]] # Phase(S,P)\n",
    "Uf = [[1/np.sqrt(2), -1/np.sqrt(2), 0], [-1/np.sqrt(2), 1/np.sqrt(2), 0], [0, 0, 1]] # Porta T\n",
    "\n",
    "h=0.001\n",
    "t=0\n",
    "i=0\n",
    "lbda=0.01\n",
    "distance_vector = []\n",
    "   \n",
    "while t <= 100:\n",
    "    a,b,c,Ut = rungeKutta(u, Ut, Uf, h, t, lbda)\n",
    "    D = np.linalg.norm(Ut-Uf)**2\n",
    "    distance_vector.append(D)\n",
    "    t += 1\n",
    "\n",
    "r0 = [[1], [0], [0]]\n",
    "rf = np.dot(Uf, r0)\n",
    "pf = [[1/2*(1+rf[2][0]), 1/2*(rf[0][0]-1j*rf[1][0])], [1/2*(rf[0][0]+1j*rf[1][0]), 1/2*(1-rf[2][0])]]\n",
    "print(f'O rho desejado é: {pf}')\n",
    "\n",
    "rt = np.dot(Ut, r0)\n",
    "pt = [[1/2*(1+rt[2][0]), 1/2*(rt[0][0]-1j*rt[1][0])], [1/2*(rt[0][0]+1j*rt[1][0]), 1/2*(1-rt[2][0])]]\n",
    "\n",
    "print(f'O rho alcançado foi: {pt}')\n",
    "print(f'A fidelidade do experimento é de: {np.trace(np.sqrt(np.sqrt(pt)*pf*np.sqrt(pt)))**2}')\n",
    "print(f'O vetor U alcançado foi: {Ut}')\n",
    "print(f'A distância encontrada, ao final do experimento foi: {D}')"
   ]
  }
 ],
 "metadata": {
  "kernelspec": {
   "display_name": "Python 3 (ipykernel)",
   "language": "python",
   "name": "python3"
  },
  "language_info": {
   "codemirror_mode": {
    "name": "ipython",
    "version": 3
   },
   "file_extension": ".py",
   "mimetype": "text/x-python",
   "name": "python",
   "nbconvert_exporter": "python",
   "pygments_lexer": "ipython3",
   "version": "3.12.1"
  }
 },
 "nbformat": 4,
 "nbformat_minor": 5
}
