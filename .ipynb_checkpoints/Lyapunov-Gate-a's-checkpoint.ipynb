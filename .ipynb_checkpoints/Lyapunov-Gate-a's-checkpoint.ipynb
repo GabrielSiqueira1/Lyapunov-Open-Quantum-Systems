{
 "cells": [
  {
   "cell_type": "code",
   "execution_count": 1,
   "id": "c281fb25-0d6a-4709-8371-84fe30138a59",
   "metadata": {},
   "outputs": [],
   "source": [
    "# Bibliotecas necessárias para o experimento\n",
    "\n",
    "import numpy as np\n",
    "from random import randint"
   ]
  },
  {
   "cell_type": "code",
   "execution_count": 2,
   "id": "7bae10e9-e05a-4d8a-a271-5f11a724e9a2",
   "metadata": {},
   "outputs": [],
   "source": [
    "def S(Ut, Uf, X):\n",
    "    W = np.dot(Uf, Ut)\n",
    "    T = np.transpose(W)\n",
    "    A = np.dot(np.transpose(Ut), np.transpose(X))\n",
    "    C = np.dot(A, np.transpose(Uf))\n",
    "    L = W - np.identity(3) - 1/2*(W - np.identity(3))**2\n",
    "    S = 2*np.trace(np.dot((np.dot(-T, C) + 2*C),L))\n",
    "    #S = 2*np.trace(np.dot((1/2*np.dot(T, C) + 1/2*np.dot(-T, C) + 2*C),L))\n",
    "    return S"
   ]
  },
  {
   "cell_type": "code",
   "execution_count": 3,
   "id": "a74d139d-10c7-4292-91fc-fd488e6c47c9",
   "metadata": {},
   "outputs": [],
   "source": [
    "def field(Ut, Uf, f, h, A, B):\n",
    "    SA = S(Ut, Uf, A)\n",
    "    SB = S(Ut, Uf, B)\n",
    "    a = -f/SA - h*(SB/SA**2)\n",
    "    return a"
   ]
  },
  {
   "cell_type": "code",
   "execution_count": 4,
   "id": "36393204-3d86-4d66-848d-307116ef1180",
   "metadata": {},
   "outputs": [],
   "source": [
    "def lind(u, Ut, Uf, t, lbda):\n",
    "    Ax = [[0, 0, 0],[0, 0, -1], [0, 1, 0]]\n",
    "    Ay = [[0, 0, 1],[0, 0, 0], [-1, 0, 0]]\n",
    "    Az = [[0, -1, 0],[1, 0, 0], [0, 0, 0]]\n",
    "    B = [[-1*lbda, 0, 0],[0, -1*lbda, 0], [0, 0, -2*lbda]]\n",
    "\n",
    "    fx=10.28\n",
    "    fy=10.73\n",
    "    fz=40\n",
    "\n",
    "    ax=field(Ut, Uf, fx, u[3], Ax, B)\n",
    "    ay=field(Ut, Uf, fy, u[4], Ay, B)\n",
    "    az=field(Ut, Uf, fz, u[5], Az, B)\n",
    "    \n",
    "    print(f'Os valores de a\\'s encontrados são: {ax}, {ay}, {az}')"
   ]
  },
  {
   "cell_type": "code",
   "execution_count": 5,
   "id": "9b9f1533-8ce1-44fc-8eca-fcd76df98f4c",
   "metadata": {},
   "outputs": [],
   "source": [
    "def rungeKutta(u, Ut, Uf, h, t, lbda):\n",
    "    fx,fy,fz,k1 = lind(u, Ut, Uf, t, lbda)\n",
    "    k1 = np.dot(k1,Ut)\n",
    "    fx,fy,fz,k2 = lind(u, (Ut+h/2*k1), Uf, t, lbda)\n",
    "    k2 = np.dot(k2,(Ut+h/2*k1))\n",
    "    fx,fy,fz,k3 = lind(u, (Ut+h/2*k2), Uf, t, lbda)\n",
    "    k3 = np.dot(k3,(Ut+h/2*k2))\n",
    "    fx,fy,fz,k4 = lind(u, (Ut+h*k3), Uf, t, lbda)\n",
    "    k4 = np.dot(k4,(Ut+h*k3))\n",
    "    a = fx;\n",
    "    b = fy;\n",
    "    c = fz;\n",
    "    result = Ut+(h/6)*(k1+2*k2+2*k3+k4);\n",
    "    return a,b,c,result"
   ]
  },
  {
   "cell_type": "code",
   "execution_count": 6,
   "id": "05b3f119-e1bb-437a-86d3-fe1833a48744",
   "metadata": {},
   "outputs": [
    {
     "name": "stdout",
     "output_type": "stream",
     "text": [
      "Os valores de a's encontrados são: nan, nan, nan\n"
     ]
    },
    {
     "name": "stderr",
     "output_type": "stream",
     "text": [
      "/tmp/ipykernel_3946/1271906038.py:4: RuntimeWarning: divide by zero encountered in scalar divide\n",
      "  a = -f/SA - h*(SB/SA**2)\n",
      "/tmp/ipykernel_3946/1271906038.py:4: RuntimeWarning: invalid value encountered in scalar subtract\n",
      "  a = -f/SA - h*(SB/SA**2)\n"
     ]
    },
    {
     "ename": "TypeError",
     "evalue": "cannot unpack non-iterable NoneType object",
     "output_type": "error",
     "traceback": [
      "\u001b[0;31m---------------------------------------------------------------------------\u001b[0m",
      "\u001b[0;31mTypeError\u001b[0m                                 Traceback (most recent call last)",
      "Cell \u001b[0;32mIn[6], line 15\u001b[0m\n\u001b[1;32m     12\u001b[0m i\u001b[38;5;241m=\u001b[39m\u001b[38;5;241m0\u001b[39m\n\u001b[1;32m     13\u001b[0m lbda\u001b[38;5;241m=\u001b[39m\u001b[38;5;241m0.01\u001b[39m\n\u001b[0;32m---> 15\u001b[0m a,b,c,Ut \u001b[38;5;241m=\u001b[39m \u001b[43mrungeKutta\u001b[49m\u001b[43m(\u001b[49m\u001b[43mu\u001b[49m\u001b[43m,\u001b[49m\u001b[43m \u001b[49m\u001b[43mUt\u001b[49m\u001b[43m,\u001b[49m\u001b[43m \u001b[49m\u001b[43mUf\u001b[49m\u001b[43m,\u001b[49m\u001b[43m \u001b[49m\u001b[43mh\u001b[49m\u001b[43m,\u001b[49m\u001b[43m \u001b[49m\u001b[43mt\u001b[49m\u001b[43m,\u001b[49m\u001b[43m \u001b[49m\u001b[43mlbda\u001b[49m\u001b[43m)\u001b[49m\n",
      "Cell \u001b[0;32mIn[5], line 2\u001b[0m, in \u001b[0;36mrungeKutta\u001b[0;34m(u, Ut, Uf, h, t, lbda)\u001b[0m\n\u001b[1;32m      1\u001b[0m \u001b[38;5;28;01mdef\u001b[39;00m \u001b[38;5;21mrungeKutta\u001b[39m(u, Ut, Uf, h, t, lbda):\n\u001b[0;32m----> 2\u001b[0m     fx,fy,fz,k1 \u001b[38;5;241m=\u001b[39m lind(u, Ut, Uf, t, lbda)\n\u001b[1;32m      3\u001b[0m     k1 \u001b[38;5;241m=\u001b[39m np\u001b[38;5;241m.\u001b[39mdot(k1,Ut)\n\u001b[1;32m      4\u001b[0m     fx,fy,fz,k2 \u001b[38;5;241m=\u001b[39m lind(u, (Ut\u001b[38;5;241m+\u001b[39mh\u001b[38;5;241m/\u001b[39m\u001b[38;5;241m2\u001b[39m\u001b[38;5;241m*\u001b[39mk1), Uf, t, lbda)\n",
      "\u001b[0;31mTypeError\u001b[0m: cannot unpack non-iterable NoneType object"
     ]
    }
   ],
   "source": [
    "#u = [70, 106, 66, 0.35, 0.31, 0.34] # Experimento 1\n",
    "#u = [61, 116, 397, 0.35, 0.31, 0.34] # Experimento 2\n",
    "u = [120, 190, 390, 0.35, 0.31, 0.34] # Experimento 3\n",
    "\n",
    "Ut = [[1, 0, 0], [0, 1, 0], [0, 0, 1]]\n",
    "Uf = [[0, 0, 1], [0, -1, 0], [1, 0, 0]]\n",
    "#Uf = [[1, 0, 0], [0, -1, 0], [0, 0, -1]]\n",
    "#Uf = [[0, -1, 0],[-1, 0, 0], [0, 0, 1]]\n",
    "\n",
    "h=0.001\n",
    "t=0\n",
    "i=0\n",
    "lbda=0.01\n",
    "\n",
    "a,b,c,Ut = rungeKutta(u, Ut, Uf, h, t, lbda)"
   ]
  }
 ],
 "metadata": {
  "kernelspec": {
   "display_name": "Python 3 (ipykernel)",
   "language": "python",
   "name": "python3"
  },
  "language_info": {
   "codemirror_mode": {
    "name": "ipython",
    "version": 3
   },
   "file_extension": ".py",
   "mimetype": "text/x-python",
   "name": "python",
   "nbconvert_exporter": "python",
   "pygments_lexer": "ipython3",
   "version": "3.12.1"
  }
 },
 "nbformat": 4,
 "nbformat_minor": 5
}
