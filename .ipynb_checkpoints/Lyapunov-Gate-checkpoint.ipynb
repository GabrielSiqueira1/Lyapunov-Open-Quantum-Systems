{
 "cells": [
  {
   "cell_type": "code",
   "execution_count": 1,
   "id": "c281fb25-0d6a-4709-8371-84fe30138a59",
   "metadata": {},
   "outputs": [],
   "source": [
    "# Bibliotecas necessárias para o experimento\n",
    "\n",
    "import numpy as np\n",
    "from random import randint"
   ]
  },
  {
   "cell_type": "code",
   "execution_count": 2,
   "id": "7bae10e9-e05a-4d8a-a271-5f11a724e9a2",
   "metadata": {},
   "outputs": [],
   "source": [
    "def S(Ut, Uf, X):\n",
    "    W = np.dot(np.transpose(Uf), Ut)\n",
    "    T = np.transpose(W)\n",
    "    A = np.dot(np.transpose(Ut), np.transpose(X))\n",
    "    C = np.dot(A, np.transpose(Uf))\n",
    "    L = W - np.identity(3) - 1/2*(W - np.identity(3))**2\n",
    "    #S = 2*np.trace(np.dot((np.dot(-T, C) + 2*C),L))\n",
    "    S = 2*np.trace(np.dot((1/2*np.dot(T, C) + 1/2*np.dot(-T, C) + 2*C),L))\n",
    "    return S"
   ]
  },
  {
   "cell_type": "code",
   "execution_count": 3,
   "id": "a74d139d-10c7-4292-91fc-fd488e6c47c9",
   "metadata": {},
   "outputs": [],
   "source": [
    "def field(Ut, Uf, a, h, A, B):\n",
    "    SA = S(Ut, Uf, A)\n",
    "    SB = S(Ut, Uf, B)\n",
    "    f = -a*SA-h*(SB/SA)\n",
    "    return f"
   ]
  },
  {
   "cell_type": "code",
   "execution_count": 4,
   "id": "36393204-3d86-4d66-848d-307116ef1180",
   "metadata": {},
   "outputs": [],
   "source": [
    "def lind(u, Ut, Uf, t, lbda):\n",
    "    Ax = [[0, 0, 0],[0, 0, -1], [0, 1, 0]]\n",
    "    Ay = [[0, 0, 1],[0, 0, 0], [-1, 0, 0]]\n",
    "    Az = [[0, -1, 0],[1, 0, 0], [0, 0, 0]]\n",
    "    B = [[-1*lbda, 0, 0],[0, -1*lbda, 0], [0, 0, -2*lbda]]\n",
    "    if t == 0:\n",
    "        fx=10.28\n",
    "        fy=10.73\n",
    "        fz=40\n",
    "        F=np.dot(fx,Ax)+np.dot(fy,Ay)+np.dot(fz,Az)+B\n",
    "    else:\n",
    "        fx=field(Ut, Uf, u[0], u[3], Ax, B)\n",
    "        fy=field(Ut, Uf, u[1], u[4], Ay, B)\n",
    "        fz=field(Ut, Uf, u[2], u[5], Az, B)\n",
    "        P=400\n",
    "\n",
    "        if abs(fx) > P:\n",
    "            if fx < 0:\n",
    "                fx = -P\n",
    "            else:\n",
    "                fx = P\n",
    "        if abs(fy) > P:\n",
    "            if fy < 0:\n",
    "                fy = -P\n",
    "            else:\n",
    "                fy = P\n",
    "        if abs(fy) > P:\n",
    "            if fy < 0:\n",
    "                fy = -P\n",
    "            else:\n",
    "                fy = P\n",
    "\n",
    "        F=np.dot(fx,Ax)+np.dot(fy,Ay)+np.dot(fz,Az)+B\n",
    "        \t\n",
    "    return fx,fy,fz,F"
   ]
  },
  {
   "cell_type": "code",
   "execution_count": 5,
   "id": "ea216581-4d46-45e5-9de9-33fe47444a23",
   "metadata": {},
   "outputs": [],
   "source": [
    "def rungeKutta(u, Ut, Uf, h, t, lbda):\n",
    "    fx,fy,fz,k1 = lind(u, Ut, Uf, t, lbda)\n",
    "    k1 = np.dot(k1,Ut)\n",
    "    fx,fy,fz,k2 = lind(u, (Ut+h/2*k1), Uf, t, lbda)\n",
    "    k2 = np.dot(k2,(Ut+h/2*k1))\n",
    "    fx,fy,fz,k3 = lind(u, (Ut+h/2*k2), Uf, t, lbda)\n",
    "    k3 = np.dot(k3,(Ut+h/2*k2))\n",
    "    fx,fy,fz,k4 = lind(u, (Ut+h*k3), Uf, t, lbda)\n",
    "    k4 = np.dot(k4,(Ut+h*k3))\n",
    "    a = fx;\n",
    "    b = fy;\n",
    "    c = fz;\n",
    "    result = Ut+(h/6)*(k1+2*k2+2*k3+k4);\n",
    "    return a,b,c,result"
   ]
  },
  {
   "cell_type": "code",
   "execution_count": 6,
   "id": "29ff5391-7eea-4c95-936e-2a4220591a25",
   "metadata": {},
   "outputs": [
    {
     "name": "stdout",
     "output_type": "stream",
     "text": [
      "O rho desejado é: [[0.5, (0.5+0j)], [(0.5+0j), 0.5]]\n",
      "O rho alcançado foi: [[0.5006210270476549, (0.5044408705973696-0.0003432583496688076j)], [(0.5044408705973696+0.0003432583496688076j), 0.49937897295234507]]\n",
      "A fidelidade do experimento é de: (0.9999996143252573+0j)\n",
      "A fidelidade do experimento, de acordo com o artigo, é de: 1.0084867824022172\n",
      "O vetor U alcançado foi: [[ 1.00888174e+00 -5.04537335e-04 -9.07824121e-04]\n",
      " [ 6.86516699e-04 -9.96035151e-01  1.63623718e-03]\n",
      " [ 1.24205410e-03  2.17959199e-03 -1.00777246e+00]]\n",
      "A distância encontrada, ao final do experimento foi: 0.000165537125547191\n"
     ]
    }
   ],
   "source": [
    "#u = [70, 106, 66, 0.35, 0.31, 0.34] # Hadamard\n",
    "#u = [61, 140, 320, 0.35, 0.31, 0.34] # Pauli-X\n",
    "#u = [275, 41, 58, 0.35, 0.31, 0.34] # Pauli-Z\n",
    "#u = [36, 272, 81, 0.35, 0.31, 0.34] # Pauli-Y\n",
    "\n",
    "Ut = [[1, 0, 0], [0, 1, 0], [0, 0, 1]]\n",
    "#Uf = [[0, 0, 1], [0, -1, 0], [1, 0, 0]] # Hadamard\n",
    "#Uf = [[1, 0, 0], [0, -1, 0], [0, 0, -1]] # Pauli-X\n",
    "#Uf = [[-1, 0, 0], [0, -1, 0], [0, 0, 1]] # Pauli-Z\n",
    "#Uf = [[-1, 0, 0], [0, 1, 0], [0, 0, -1]] # Pauli-Y\n",
    "\n",
    "h=0.001\n",
    "t=0\n",
    "i=0\n",
    "lbda=0.01\n",
    "distance_vector = []\n",
    "\n",
    "while t <= 100:\n",
    "    a,b,c,Ut = rungeKutta(u, Ut, Uf, h, t, lbda)\n",
    "    D = np.linalg.norm(Ut-Uf)**2\n",
    "    distance_vector.append(D)\n",
    "    t += 1\n",
    "\n",
    "r0 = [[1], [0], [0]]\n",
    "rf = np.dot(Uf, r0)\n",
    "pf = [[1/2*(1+rf[2][0]), 1/2*(rf[0][0]-1j*rf[1][0])], [1/2*(rf[0][0]+1j*rf[1][0]), 1/2*(1-rf[2][0])]]\n",
    "print(f'O rho desejado é: {pf}')\n",
    "\n",
    "rt = np.dot(Ut, r0)\n",
    "pt = [[1/2*(1+rt[2][0]), 1/2*(rt[0][0]-1j*rt[1][0])], [1/2*(rt[0][0]+1j*rt[1][0]), 1/2*(1-rt[2][0])]]\n",
    "\n",
    "print(f'O rho alcançado foi: {pt}')\n",
    "print(f'A fidelidade do experimento é de: {np.trace(np.sqrt(np.sqrt(pt)*pf*np.sqrt(pt)))**2}')\n",
    "print(f'A fidelidade do experimento, de acordo com o artigo, é de: {(np.trace(np.dot(Ut,np.transpose(Ut)))+np.abs(np.trace(np.dot(np.transpose(Uf),Ut)))**2)/(3*(3+1))}')\n",
    "print(f'O vetor U alcançado foi: {Ut}')\n",
    "print(f'A distância encontrada, ao final do experimento foi: {D}')"
   ]
  }
 ],
 "metadata": {
  "kernelspec": {
   "display_name": "Python 3 (ipykernel)",
   "language": "python",
   "name": "python3"
  },
  "language_info": {
   "codemirror_mode": {
    "name": "ipython",
    "version": 3
   },
   "file_extension": ".py",
   "mimetype": "text/x-python",
   "name": "python",
   "nbconvert_exporter": "python",
   "pygments_lexer": "ipython3",
   "version": "3.12.1"
  }
 },
 "nbformat": 4,
 "nbformat_minor": 5
}
