{
 "cells": [
  {
   "cell_type": "code",
   "execution_count": null,
   "id": "7263fac8-fd07-4d28-9f0b-4058f6b32ede",
   "metadata": {},
   "outputs": [],
   "source": [
    "def func_objetivo(vetor_controles, tempo_atual, rho_desejado, \n",
    "                  rho_atual, hamiltoniano, horizonte, fator_runge_kutta):\n",
    "    \n",
    "    fo = 0\n",
    "    runge = np.zeros((2,2),dtype=np.complex_)  \n",
    "    \n",
    "    tempo_inicial = INICIO_ANALISE\n",
    "    tempo_final = FINAL_ANALISE\n",
    "    \n",
    "    controles = np.zeros((2,2), dtype=np.complex_)\n",
    "    controles = [[0, vetor_controles[0]], [vetor_controles[0], 0]]\n",
    "    controles = np.asmatrix(controles)\n",
    "    \n",
    "    matriz_inicial = np.zeros((2,2),dtype=np.complex_)\n",
    "    matriz_inicial = rho_atual\n",
    "    matriz_inicial = np.asmatrix(rho_atual)\n",
    "\n",
    "    matriz_desejada = np.zeros((2,2),dtype=np.complex_)\n",
    "    matriz_desejada = np.asmatrix(matriz_desejada)\n",
    "\n",
    "    R = np.dot(np.dot(-1j,H),tempo_atual)\n",
    "    U = expm(R)\n",
    "    U = np.asmatrix(U)\n",
    "    U_dagger = U.getH()\n",
    "    matriz_desejada = U*rho*U_dagger\n",
    "\n",
    "    fo += (np.linalg.norm(matriz_inicial-matriz_desejada))**2\n",
    "    \n",
    "    return fo"
   ]
  }
 ],
 "metadata": {
  "kernelspec": {
   "display_name": "Python 3 (ipykernel)",
   "language": "python",
   "name": "python3"
  },
  "language_info": {
   "codemirror_mode": {
    "name": "ipython",
    "version": 3
   },
   "file_extension": ".py",
   "mimetype": "text/x-python",
   "name": "python",
   "nbconvert_exporter": "python",
   "pygments_lexer": "ipython3",
   "version": "3.10.12"
  }
 },
 "nbformat": 4,
 "nbformat_minor": 5
}
