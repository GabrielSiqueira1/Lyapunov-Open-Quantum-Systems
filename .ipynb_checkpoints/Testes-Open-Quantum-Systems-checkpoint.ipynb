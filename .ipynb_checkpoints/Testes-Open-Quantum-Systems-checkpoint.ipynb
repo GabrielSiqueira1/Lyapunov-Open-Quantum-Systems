{
 "cells": [
  {
   "cell_type": "markdown",
   "id": "9a7ceba4-0e90-46d4-a67a-e7dd005d0328",
   "metadata": {},
   "source": [
    "## Proposta\n",
    "\n",
    "Encontrar os valores dos campos de controle, $f_x$, $f_y$ e $f_z$. Os valores de controle podem ser definidos como: $$f_{x,y,z}=-a_{x,y,z}S(A_{x,y,z},t) - h_{x,y,z}\\frac{S(B,t)}{S(A_{x,y,z},t)}$$\n",
    "\n",
    "$S$ é a representação do controle de Lyapunov já que este consiste nas componentes que formam a derivada de $V(t)$, cujo o propósito, em Lyapunov, é ser menor que zero enquanto $V(t)$ deve ser maior que zero, em qualquer tempo. $S$ pode ser definido como: $$S(X,t)=(-\\frac{1}{2}U_t^{\\dagger}X^{\\dagger}U_fW^{\\dagger}-\\frac{1}{2}W^{\\dagger}U_t^{\\dagger}X^{\\dagger}U_f+2U_t^{\\dagger}X^{\\dagger}U_f)L$$\n",
    "\n",
    "Para começar os trabalhos, iniciamos em $t=0$ pois como $U$ é a evolução temporal unitária, $U_0 = diag(1,1,1)$, ademais, $X \\in \\{A_x, A_y, A_z, B\\}$, $U_f=\\left(\\begin{array}{cc} \n",
    "0 & 0 & 1\\\\\n",
    "0 & -1 & 0\\\\\n",
    "1 & 0 & 0\\\\\n",
    "\\end{array}\\right)$, $h_x+h_y+h_z = 1$. O $A's$ e $B$ são matrizes que foram obtidas por meio da transformação adjunta em $SO(3)$ da equação mestra de Lindblad, por fim, $W_t = U_f^{\\dagger}U_t$ e por consequência $L_t = W_t - I -\\frac{1}{2}(W_t-I)^2$.\n"
   ]
  },
  {
   "cell_type": "code",
   "execution_count": 3,
   "id": "4cedb2f3-b4ac-450a-84a8-0a22754ca158",
   "metadata": {},
   "outputs": [],
   "source": [
    "import numpy as np\n",
    "import matplotlib.pyplot as plt\n",
    "from scipy import optimize\n",
    "import random"
   ]
  },
  {
   "cell_type": "code",
   "execution_count": null,
   "id": "3de7ca7b-85e1-4f8c-a23c-4a8312b6b51b",
   "metadata": {},
   "outputs": [],
   "source": [
    "def lyap(Ui, Uf, X):\n",
    "    first=-1/2*np.dot(np.dot(np.dot(Ui.getH(),X.getH()),Uf),np.dot(Uf.getH(), Ui))\n",
    "    second=-1/2*np.dot(np.dot(Uf.getH(), Ui), np.dot(np.dot(Ui.getH(),X.getH()),Uf))\n",
    "    third=2*np.dot(np.dot(Ui.getH(),X.getH()),Uf)\n",
    "    return first+second+third\n",
    "\n",
    "def control(Ui, Uf, a, h, A, B):\n",
    "    SA=lyap(Ui, Uf, A)\n",
    "    SB=lyap(Ui, Uf, B)\n",
    "    return -a*SA-h*(SB/SA)\n",
    "\n",
    "# U' = (A(t)+B)U\n",
    "def dUdt(u, Ui, Uf):\n",
    "    Ax = np.matrix('0 0 0; 0 0 -1; 0 1 0')\n",
    "    Ay = np.matrix('0 0 1; 0 0 0; -1 0 0')\n",
    "    Az = np.matrix('0 -1 0; 1 0 0; 0 0 0')\n",
    "    B = 0.01*np.matrix('-1 0 0; 0 -1 0; 0 0 -2')\n",
    "    F = np.dot(control(Ui, Uf, u[0], u[3], Ax, B), Ax)+np.dot(control(Ui, Uf, u[1], u[4], Ay, B), Ay)+np.dot(control(Ui, Uf, u[2], u[5], Az, B),Az)+B\n",
    "    return np.dot(F, Ui)\n",
    "\n",
    "# Runge-Kutta de quarta ordem\n",
    "\n",
    "def runge_kutta(u, Ui, Uf, h):\n",
    "    \n",
    "    k1 = dUdt(u, Ui, Uf)\n",
    "    k2 = dUdt(u, np.sum(Ui, np.dot((0.5*h), k1)), Uf)\n",
    "    k3 = dUdt(u, np.sum(Ui, np.dot((0.5*h), k2)), Uf)\n",
    "    k4 = dUdt(u, np.sum(Ui, np.dot(h, k3)), Uf)\n",
    "    \n",
    "    A = np.sum(np.dot(2,k3), k4)\n",
    "    B = np.sum(np.dot(2,k2), k1)\n",
    "    C = np.sum(A, B)\n",
    "\n",
    "    res = np.sum(Ui, np.dot((h / 6.0),(C)))\n",
    "        \n",
    "    return res"
   ]
  },
  {
   "cell_type": "code",
   "execution_count": null,
   "id": "88e2a9cb-d3f2-42cf-bb21-bde6fe7df8ad",
   "metadata": {},
   "outputs": [],
   "source": [
    "def func_objetivo(u, Ui, Uf, h):\n",
    "    return np.norm(np.subtract(Uf, runge_kutta(u, Ui, Uf, h)))"
   ]
  },
  {
   "cell_type": "code",
   "execution_count": 9,
   "id": "fefde2ef-1d02-4fa5-a7de-2287c3e1b1a6",
   "metadata": {},
   "outputs": [],
   "source": [
    "def main():\n",
    "    u = []\n",
    "    # a's\n",
    "    for i in range(0,3):\n",
    "        u.append(random.uniform(-5,5))\n",
    "\n",
    "    #h's\n",
    "    u.append(0)\n",
    "    u.append(0)\n",
    "    u.append(1)\n"
   ]
  },
  {
   "cell_type": "code",
   "execution_count": 10,
   "id": "69cb2252-308f-434a-b1f0-330578c0afc3",
   "metadata": {},
   "outputs": [
    {
     "name": "stdout",
     "output_type": "stream",
     "text": [
      "[-0.5766695307433647, -2.649086392182005, -2.568523469992159, 0, 0, 1]\n"
     ]
    }
   ],
   "source": [
    "main()"
   ]
  }
 ],
 "metadata": {
  "kernelspec": {
   "display_name": "Python 3 (ipykernel)",
   "language": "python",
   "name": "python3"
  },
  "language_info": {
   "codemirror_mode": {
    "name": "ipython",
    "version": 3
   },
   "file_extension": ".py",
   "mimetype": "text/x-python",
   "name": "python",
   "nbconvert_exporter": "python",
   "pygments_lexer": "ipython3",
   "version": "3.12.0"
  }
 },
 "nbformat": 4,
 "nbformat_minor": 5
}
