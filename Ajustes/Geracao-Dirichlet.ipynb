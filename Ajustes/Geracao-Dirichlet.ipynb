{
 "cells": [
  {
   "cell_type": "code",
   "execution_count": 1,
   "id": "be7f171f-eae0-4b3d-9930-30d48d310d5e",
   "metadata": {},
   "outputs": [],
   "source": [
    "import numpy as np, numpy.random"
   ]
  },
  {
   "cell_type": "code",
   "execution_count": 2,
   "id": "177370fa-c2e3-4e8e-9291-04f2726ec0df",
   "metadata": {},
   "outputs": [],
   "source": [
    "A = [[]]\n",
    "A = np.random.dirichlet(np.ones(3),size=1)"
   ]
  },
  {
   "cell_type": "code",
   "execution_count": 3,
   "id": "bcd72a7d-980e-4a05-bbc1-d4a61646ea9c",
   "metadata": {},
   "outputs": [
    {
     "name": "stdout",
     "output_type": "stream",
     "text": [
      "[[0.10249782 0.76541754 0.13208464]]\n"
     ]
    }
   ],
   "source": [
    "print(A)"
   ]
  },
  {
   "cell_type": "code",
   "execution_count": 4,
   "id": "879a08a2-0e64-4e6b-bf54-8457053d8b3d",
   "metadata": {},
   "outputs": [
    {
     "data": {
      "text/plain": [
       "np.float64(1.0)"
      ]
     },
     "execution_count": 4,
     "metadata": {},
     "output_type": "execute_result"
    }
   ],
   "source": [
    "sum(A[0])"
   ]
  },
  {
   "cell_type": "code",
   "execution_count": 5,
   "id": "33302d19-077f-49e1-bef5-588b2258f063",
   "metadata": {},
   "outputs": [
    {
     "data": {
      "text/plain": [
       "np.float64(0.7654175433714356)"
      ]
     },
     "execution_count": 5,
     "metadata": {},
     "output_type": "execute_result"
    }
   ],
   "source": [
    "A[0][1]"
   ]
  }
 ],
 "metadata": {
  "kernelspec": {
   "display_name": "Python 3 (ipykernel)",
   "language": "python",
   "name": "python3"
  },
  "language_info": {
   "codemirror_mode": {
    "name": "ipython",
    "version": 3
   },
   "file_extension": ".py",
   "mimetype": "text/x-python",
   "name": "python",
   "nbconvert_exporter": "python",
   "pygments_lexer": "ipython3",
   "version": "3.12.3"
  }
 },
 "nbformat": 4,
 "nbformat_minor": 5
}
