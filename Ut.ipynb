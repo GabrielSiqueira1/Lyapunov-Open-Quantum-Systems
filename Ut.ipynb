{
 "cells": [
  {
   "cell_type": "code",
   "execution_count": 1,
   "id": "20c11ec6-6dc4-404b-a0e9-78683353d593",
   "metadata": {},
   "outputs": [],
   "source": [
    "import sympy as sp\n",
    "from IPython.display import display, Latex"
   ]
  },
  {
   "cell_type": "code",
   "execution_count": 2,
   "id": "2828a2ab-53c3-4166-9c53-a92d8a4c0812",
   "metadata": {},
   "outputs": [
    {
     "data": {
      "text/latex": [
       "$\\displaystyle \\left[\\begin{matrix}u_{1} & u_{2}\\\\u_{3} & u_{4}\\end{matrix}\\right]$"
      ],
      "text/plain": [
       "Matrix([\n",
       "[u1, u2],\n",
       "[u3, u4]])"
      ]
     },
     "metadata": {},
     "output_type": "display_data"
    },
    {
     "data": {
      "text/latex": [
       "$\\displaystyle \\left[\\begin{matrix}0.5 r_{z0} + 0.5 & 0.5 r_{x0} - 0.5 i r_{y0}\\\\0.5 r_{x0} + 0.5 i r_{y0} & 0.5 - 0.5 r_{z0}\\end{matrix}\\right]$"
      ],
      "text/plain": [
       "Matrix([\n",
       "[         0.5*r_{z0} + 0.5, 0.5*r_{x0} - 0.5*I*r_{y0}],\n",
       "[0.5*r_{x0} + 0.5*I*r_{y0},          0.5 - 0.5*r_{z0}]])"
      ]
     },
     "metadata": {},
     "output_type": "display_data"
    },
    {
     "data": {
      "text/latex": [
       "$\\displaystyle \\left[\\begin{matrix}u^{*}_{1} & u^{*}_{3}\\\\u^{*}_{2} & u^{*}_{4}\\end{matrix}\\right]$"
      ],
      "text/plain": [
       "Matrix([\n",
       "[u1^*, u3^*],\n",
       "[u2^*, u4^*]])"
      ]
     },
     "metadata": {},
     "output_type": "display_data"
    },
    {
     "name": "stdout",
     "output_type": "stream",
     "text": [
      "#######################\n"
     ]
    },
    {
     "data": {
      "text/latex": [
       "$\\displaystyle \\left[\\begin{matrix}0.5 r_{zf} + 0.5 & 0.5 r_{xf} - 0.5 i r_{yf}\\\\0.5 r_{xf} + 0.5 i r_{yf} & 0.5 - 0.5 r_{zf}\\end{matrix}\\right] = \\left[\\begin{matrix}u^{*}_{1} \\left(u_{1} \\cdot \\left(0.5 r_{z0} + 0.5\\right) + u_{2} \\cdot \\left(0.5 r_{x0} + 0.5 i r_{y0}\\right)\\right) + u^{*}_{2} \\left(u_{1} \\cdot \\left(0.5 r_{x0} - 0.5 i r_{y0}\\right) + u_{2} \\cdot \\left(0.5 - 0.5 r_{z0}\\right)\\right) & u^{*}_{3} \\left(u_{1} \\cdot \\left(0.5 r_{z0} + 0.5\\right) + u_{2} \\cdot \\left(0.5 r_{x0} + 0.5 i r_{y0}\\right)\\right) + u^{*}_{4} \\left(u_{1} \\cdot \\left(0.5 r_{x0} - 0.5 i r_{y0}\\right) + u_{2} \\cdot \\left(0.5 - 0.5 r_{z0}\\right)\\right)\\\\u^{*}_{1} \\left(u_{3} \\cdot \\left(0.5 r_{z0} + 0.5\\right) + u_{4} \\cdot \\left(0.5 r_{x0} + 0.5 i r_{y0}\\right)\\right) + u^{*}_{2} \\left(u_{3} \\cdot \\left(0.5 r_{x0} - 0.5 i r_{y0}\\right) + u_{4} \\cdot \\left(0.5 - 0.5 r_{z0}\\right)\\right) & u^{*}_{3} \\left(u_{3} \\cdot \\left(0.5 r_{z0} + 0.5\\right) + u_{4} \\cdot \\left(0.5 r_{x0} + 0.5 i r_{y0}\\right)\\right) + u^{*}_{4} \\left(u_{3} \\cdot \\left(0.5 r_{x0} - 0.5 i r_{y0}\\right) + u_{4} \\cdot \\left(0.5 - 0.5 r_{z0}\\right)\\right)\\end{matrix}\\right]$"
      ],
      "text/plain": [
       "Eq(Matrix([\n",
       "[         0.5*r_{zf} + 0.5, 0.5*r_{xf} - 0.5*I*r_{yf}],\n",
       "[0.5*r_{xf} + 0.5*I*r_{yf},          0.5 - 0.5*r_{zf}]]), Matrix([\n",
       "[u1^**(u1*(0.5*r_{z0} + 0.5) + u2*(0.5*r_{x0} + 0.5*I*r_{y0})) + u2^**(u1*(0.5*r_{x0} - 0.5*I*r_{y0}) + u2*(0.5 - 0.5*r_{z0})), u3^**(u1*(0.5*r_{z0} + 0.5) + u2*(0.5*r_{x0} + 0.5*I*r_{y0})) + u4^**(u1*(0.5*r_{x0} - 0.5*I*r_{y0}) + u2*(0.5 - 0.5*r_{z0}))],\n",
       "[u1^**(u3*(0.5*r_{z0} + 0.5) + u4*(0.5*r_{x0} + 0.5*I*r_{y0})) + u2^**(u3*(0.5*r_{x0} - 0.5*I*r_{y0}) + u4*(0.5 - 0.5*r_{z0})), u3^**(u3*(0.5*r_{z0} + 0.5) + u4*(0.5*r_{x0} + 0.5*I*r_{y0})) + u4^**(u3*(0.5*r_{x0} - 0.5*I*r_{y0}) + u4*(0.5 - 0.5*r_{z0}))]]))"
      ]
     },
     "metadata": {},
     "output_type": "display_data"
    }
   ],
   "source": [
    "from sympy import symbols, Matrix, Eq\n",
    "\n",
    "symbols_list = ['r_{x0}', 'r_{y0}', 'r_{z0}', 'r_{xf}', 'r_{yf}', 'r_{zf}', 'u1', 'u1^*', 'u2', 'u2^*','u3', 'u3^*', 'u4', 'u4^*', 'A', 'B', 'C', '$\\rho_f$']\n",
    "x = sp.symbols(symbols_list)\n",
    "\n",
    "A = Matrix([[x[6], x[8]],\n",
    "            [x[10], x[12]]])\n",
    "display(A)\n",
    "\n",
    "B = Matrix([[1/2*(1+x[2]), 1/2*(x[0]-1j*x[1])],\n",
    "            [1/2*(x[0]+1j*x[1]), 1/2*(1-x[2])]])\n",
    "display(B)\n",
    "\n",
    "C = Matrix([[x[7], x[11]],\n",
    "            [x[9], x[13]]])\n",
    "display(C)\n",
    "\n",
    "resultado = A * B * C\n",
    "\n",
    "X = Matrix([[1/2*(1+x[5]), 1/2*(x[3]-1j*x[4])],\n",
    "            [1/2*(x[3]+1j*x[4]), 1/2*(1-x[5])]])\n",
    "print(\"#######################\")\n",
    "display(Eq(X, resultado))"
   ]
  },
  {
   "cell_type": "code",
   "execution_count": 3,
   "id": "b4ed2987-dc48-4ac6-851d-424ea2cb394f",
   "metadata": {},
   "outputs": [
    {
     "data": {
      "text/latex": [
       "$\\displaystyle u^{*}_{1} \\left(u_{1} \\cdot \\left(0.5 r_{z0} + 0.5\\right) + u_{2} \\cdot \\left(0.5 r_{x0} + 0.5 i r_{y0}\\right)\\right) + u^{*}_{2} \\left(u_{1} \\cdot \\left(0.5 r_{x0} - 0.5 i r_{y0}\\right) + u_{2} \\cdot \\left(0.5 - 0.5 r_{z0}\\right)\\right) = 0.5 r_{zf} + 0.5$"
      ],
      "text/plain": [
       "Eq(u1^**(u1*(0.5*r_{z0} + 0.5) + u2*(0.5*r_{x0} + 0.5*I*r_{y0})) + u2^**(u1*(0.5*r_{x0} - 0.5*I*r_{y0}) + u2*(0.5 - 0.5*r_{z0})), 0.5*r_{zf} + 0.5)"
      ]
     },
     "metadata": {},
     "output_type": "display_data"
    },
    {
     "data": {
      "text/latex": [
       "$\\displaystyle r_{zf} = r_{x0} \\left(u_{1} u^{*}_{2} + u^{*}_{1} u_{2}\\right) + r_{y0} \\left(- i u_{1} u^{*}_{2} + i u^{*}_{1} u_{2}\\right) + r_{z0} \\left(u_{1} u^{*}_{1} - u_{2} u^{*}_{2}\\right) + u_{1} u^{*}_{1} + u_{2} u^{*}_{2} - 1.0$"
      ],
      "text/plain": [
       "Eq(r_{zf}, r_{x0}*(u1*u2^* + u1^**u2) + r_{y0}*(-I*u1*u2^* + I*u1^**u2) + r_{z0}*(u1*u1^* - u2*u2^*) + u1*u1^* + u2*u2^* - 1.0)"
      ]
     },
     "metadata": {},
     "output_type": "display_data"
    },
    {
     "name": "stdout",
     "output_type": "stream",
     "text": [
      "#######################\n"
     ]
    },
    {
     "data": {
      "text/latex": [
       "$\\displaystyle u^{*}_{3} \\left(u_{3} \\cdot \\left(0.5 r_{z0} + 0.5\\right) + u_{4} \\cdot \\left(0.5 r_{x0} + 0.5 i r_{y0}\\right)\\right) + u^{*}_{4} \\left(u_{3} \\cdot \\left(0.5 r_{x0} - 0.5 i r_{y0}\\right) + u_{4} \\cdot \\left(0.5 - 0.5 r_{z0}\\right)\\right) = 0.5 - 0.5 r_{zf}$"
      ],
      "text/plain": [
       "Eq(u3^**(u3*(0.5*r_{z0} + 0.5) + u4*(0.5*r_{x0} + 0.5*I*r_{y0})) + u4^**(u3*(0.5*r_{x0} - 0.5*I*r_{y0}) + u4*(0.5 - 0.5*r_{z0})), 0.5 - 0.5*r_{zf})"
      ]
     },
     "metadata": {},
     "output_type": "display_data"
    },
    {
     "data": {
      "text/latex": [
       "$\\displaystyle r_{zf} = r_{x0} \\left(- u_{3} u^{*}_{4} - u^{*}_{3} u_{4}\\right) + r_{y0} \\left(i u_{3} u^{*}_{4} - i u^{*}_{3} u_{4}\\right) + r_{z0} \\left(- u_{3} u^{*}_{3} + u_{4} u^{*}_{4}\\right) - u_{3} u^{*}_{3} - u_{4} u^{*}_{4} + 1.0$"
      ],
      "text/plain": [
       "Eq(r_{zf}, r_{x0}*(-u3*u4^* - u3^**u4) + r_{y0}*(I*u3*u4^* - I*u3^**u4) + r_{z0}*(-u3*u3^* + u4*u4^*) - u3*u3^* - u4*u4^* + 1.0)"
      ]
     },
     "metadata": {},
     "output_type": "display_data"
    }
   ],
   "source": [
    "eq = [Eq(resultado[i, j], X[i, j]) for i in range(2) for j in range(2)]\n",
    "list_of_equations = []\n",
    "\n",
    "for equation in eq:\n",
    "    list_of_equations.append(equation)\n",
    "\n",
    "display(list_of_equations[0])\n",
    "expr_in_terms_of_x0 = sp.solve(list_of_equations[0], x[5])[0]\n",
    "collected_expr_z = sp.collect(expr_in_terms_of_x0, [x[0], x[1], x[2]])\n",
    "display(Eq(x[5],collected_expr_z))\n",
    "\n",
    "print(\"#######################\")\n",
    "\n",
    "display(list_of_equations[3])\n",
    "expr_in_terms_of_x0 = sp.solve(list_of_equations[3], x[5])[0]\n",
    "collected_expr_z2 = sp.collect(expr_in_terms_of_x0, [x[0], x[1], x[2]])\n",
    "display(Eq(x[5],collected_expr_z2))"
   ]
  },
  {
   "cell_type": "code",
   "execution_count": 4,
   "id": "e4732d2a-003c-452d-9edf-cdd5d41c00e0",
   "metadata": {},
   "outputs": [
    {
     "data": {
      "text/latex": [
       "$\\displaystyle u^{*}_{3} \\left(u_{1} \\cdot \\left(0.5 r_{z0} + 0.5\\right) + u_{2} \\cdot \\left(0.5 r_{x0} + 0.5 i r_{y0}\\right)\\right) + u^{*}_{4} \\left(u_{1} \\cdot \\left(0.5 r_{x0} - 0.5 i r_{y0}\\right) + u_{2} \\cdot \\left(0.5 - 0.5 r_{z0}\\right)\\right) = 0.5 r_{xf} - 0.5 i r_{yf}$"
      ],
      "text/plain": [
       "Eq(u3^**(u1*(0.5*r_{z0} + 0.5) + u2*(0.5*r_{x0} + 0.5*I*r_{y0})) + u4^**(u1*(0.5*r_{x0} - 0.5*I*r_{y0}) + u2*(0.5 - 0.5*r_{z0})), 0.5*r_{xf} - 0.5*I*r_{yf})"
      ]
     },
     "metadata": {},
     "output_type": "display_data"
    },
    {
     "data": {
      "text/latex": [
       "$\\displaystyle r_{xf} = r_{x0} \\left(u_{1} u^{*}_{4} + u_{2} u^{*}_{3}\\right) + r_{y0} \\left(- i u_{1} u^{*}_{4} + i u_{2} u^{*}_{3}\\right) + i r_{yf} + r_{z0} \\left(u_{1} u^{*}_{3} - u_{2} u^{*}_{4}\\right) + u_{1} u^{*}_{3} + u_{2} u^{*}_{4}$"
      ],
      "text/plain": [
       "Eq(r_{xf}, r_{x0}*(u1*u4^* + u2*u3^*) + r_{y0}*(-I*u1*u4^* + I*u2*u3^*) + I*r_{yf} + r_{z0}*(u1*u3^* - u2*u4^*) + u1*u3^* + u2*u4^*)"
      ]
     },
     "metadata": {},
     "output_type": "display_data"
    },
    {
     "name": "stdout",
     "output_type": "stream",
     "text": [
      "#################\n"
     ]
    },
    {
     "data": {
      "text/latex": [
       "$\\displaystyle u^{*}_{1} \\left(u_{3} \\cdot \\left(0.5 r_{z0} + 0.5\\right) + u_{4} \\cdot \\left(0.5 r_{x0} + 0.5 i r_{y0}\\right)\\right) + u^{*}_{2} \\left(u_{3} \\cdot \\left(0.5 r_{x0} - 0.5 i r_{y0}\\right) + u_{4} \\cdot \\left(0.5 - 0.5 r_{z0}\\right)\\right) = 0.5 r_{xf} + 0.5 i r_{yf}$"
      ],
      "text/plain": [
       "Eq(u1^**(u3*(0.5*r_{z0} + 0.5) + u4*(0.5*r_{x0} + 0.5*I*r_{y0})) + u2^**(u3*(0.5*r_{x0} - 0.5*I*r_{y0}) + u4*(0.5 - 0.5*r_{z0})), 0.5*r_{xf} + 0.5*I*r_{yf})"
      ]
     },
     "metadata": {},
     "output_type": "display_data"
    },
    {
     "data": {
      "text/latex": [
       "$\\displaystyle r_{xf} = r_{x0} \\left(u^{*}_{1} u_{4} + u^{*}_{2} u_{3}\\right) + r_{y0} \\left(i u^{*}_{1} u_{4} - i u^{*}_{2} u_{3}\\right) - i r_{yf} + r_{z0} \\left(u^{*}_{1} u_{3} - u^{*}_{2} u_{4}\\right) + u^{*}_{1} u_{3} + u^{*}_{2} u_{4}$"
      ],
      "text/plain": [
       "Eq(r_{xf}, r_{x0}*(u1^**u4 + u2^**u3) + r_{y0}*(I*u1^**u4 - I*u2^**u3) - I*r_{yf} + r_{z0}*(u1^**u3 - u2^**u4) + u1^**u3 + u2^**u4)"
      ]
     },
     "metadata": {},
     "output_type": "display_data"
    }
   ],
   "source": [
    "display(list_of_equations[1])\n",
    "expr_in_terms_of_x0 = sp.solve(list_of_equations[1], x[3])[0]\n",
    "collected_expr_x = sp.collect(expr_in_terms_of_x0, [x[0], x[1], x[2]])\n",
    "display(Eq(x[3], collected_expr_x))\n",
    "\n",
    "print(\"#################\")\n",
    "\n",
    "display(list_of_equations[2])\n",
    "expr_in_terms_of_x0 = sp.solve(list_of_equations[2], x[3])[0]\n",
    "collected_expr_x2 = sp.collect(expr_in_terms_of_x0, [x[0], x[1], x[2]])\n",
    "display(Eq(x[3], collected_expr_x2))"
   ]
  },
  {
   "cell_type": "code",
   "execution_count": 5,
   "id": "d63d7cee-2819-4c65-abf8-af26aa92a4fd",
   "metadata": {},
   "outputs": [
    {
     "data": {
      "text/latex": [
       "$\\displaystyle r_{x0} \\left(u^{*}_{1} u_{4} + u^{*}_{2} u_{3}\\right) + r_{y0} \\left(i u^{*}_{1} u_{4} - i u^{*}_{2} u_{3}\\right) - i r_{yf} + r_{z0} \\left(u^{*}_{1} u_{3} - u^{*}_{2} u_{4}\\right) + u^{*}_{1} u_{3} + u^{*}_{2} u_{4} = r_{x0} \\left(u_{1} u^{*}_{4} + u_{2} u^{*}_{3}\\right) + r_{y0} \\left(- i u_{1} u^{*}_{4} + i u_{2} u^{*}_{3}\\right) + i r_{yf} + r_{z0} \\left(u_{1} u^{*}_{3} - u_{2} u^{*}_{4}\\right) + u_{1} u^{*}_{3} + u_{2} u^{*}_{4}$"
      ],
      "text/plain": [
       "Eq(r_{x0}*(u1^**u4 + u2^**u3) + r_{y0}*(I*u1^**u4 - I*u2^**u3) - I*r_{yf} + r_{z0}*(u1^**u3 - u2^**u4) + u1^**u3 + u2^**u4, r_{x0}*(u1*u4^* + u2*u3^*) + r_{y0}*(-I*u1*u4^* + I*u2*u3^*) + I*r_{yf} + r_{z0}*(u1*u3^* - u2*u4^*) + u1*u3^* + u2*u4^*)"
      ]
     },
     "metadata": {},
     "output_type": "display_data"
    },
    {
     "data": {
      "text/latex": [
       "$\\displaystyle r_{yf} = r_{x0} \\left(\\frac{i u_{1} u^{*}_{4}}{2} - \\frac{i u^{*}_{1} u_{4}}{2} + \\frac{i u_{2} u^{*}_{3}}{2} - \\frac{i u^{*}_{2} u_{3}}{2}\\right) + r_{y0} \\left(\\frac{u_{1} u^{*}_{4}}{2} + \\frac{u^{*}_{1} u_{4}}{2} - \\frac{u_{2} u^{*}_{3}}{2} - \\frac{u^{*}_{2} u_{3}}{2}\\right) + r_{z0} \\left(\\frac{i u_{1} u^{*}_{3}}{2} - \\frac{i u^{*}_{1} u_{3}}{2} - \\frac{i u_{2} u^{*}_{4}}{2} + \\frac{i u^{*}_{2} u_{4}}{2}\\right) + \\frac{i u_{1} u^{*}_{3}}{2} - \\frac{i u^{*}_{1} u_{3}}{2} + \\frac{i u_{2} u^{*}_{4}}{2} - \\frac{i u^{*}_{2} u_{4}}{2}$"
      ],
      "text/plain": [
       "Eq(r_{yf}, r_{x0}*(I*u1*u4^*/2 - I*u1^**u4/2 + I*u2*u3^*/2 - I*u2^**u3/2) + r_{y0}*(u1*u4^*/2 + u1^**u4/2 - u2*u3^*/2 - u2^**u3/2) + r_{z0}*(I*u1*u3^*/2 - I*u1^**u3/2 - I*u2*u4^*/2 + I*u2^**u4/2) + I*u1*u3^*/2 - I*u1^**u3/2 + I*u2*u4^*/2 - I*u2^**u4/2)"
      ]
     },
     "metadata": {},
     "output_type": "display_data"
    }
   ],
   "source": [
    "yf = Eq(collected_expr_x2, collected_expr_x)\n",
    "display(yf)\n",
    "\n",
    "expr_in_terms_of_x0 = sp.solve(yf, x[4])[0]\n",
    "yf = sp.collect(expr_in_terms_of_x0, [x[0], x[1], x[2]])\n",
    "display(Eq(x[4], yf))"
   ]
  },
  {
   "cell_type": "code",
   "execution_count": 6,
   "id": "2853876b-f6b7-4f07-873b-58ab3c25e562",
   "metadata": {},
   "outputs": [
    {
     "data": {
      "text/latex": [
       "$\\displaystyle u^{*}_{3} \\left(u_{1} \\cdot \\left(0.5 r_{z0} + 0.5\\right) + u_{2} \\cdot \\left(0.5 r_{x0} + 0.5 i r_{y0}\\right)\\right) + u^{*}_{4} \\left(u_{1} \\cdot \\left(0.5 r_{x0} - 0.5 i r_{y0}\\right) + u_{2} \\cdot \\left(0.5 - 0.5 r_{z0}\\right)\\right) = 0.5 r_{xf} - 0.5 i r_{yf}$"
      ],
      "text/plain": [
       "Eq(u3^**(u1*(0.5*r_{z0} + 0.5) + u2*(0.5*r_{x0} + 0.5*I*r_{y0})) + u4^**(u1*(0.5*r_{x0} - 0.5*I*r_{y0}) + u2*(0.5 - 0.5*r_{z0})), 0.5*r_{xf} - 0.5*I*r_{yf})"
      ]
     },
     "metadata": {},
     "output_type": "display_data"
    },
    {
     "data": {
      "text/latex": [
       "$\\displaystyle r_{yf} = r_{x0} \\left(i u_{1} u^{*}_{4} + i u_{2} u^{*}_{3}\\right) - i r_{xf} + r_{y0} \\left(u_{1} u^{*}_{4} - u_{2} u^{*}_{3}\\right) + r_{z0} \\left(i u_{1} u^{*}_{3} - i u_{2} u^{*}_{4}\\right) + i u_{1} u^{*}_{3} + i u_{2} u^{*}_{4}$"
      ],
      "text/plain": [
       "Eq(r_{yf}, r_{x0}*(I*u1*u4^* + I*u2*u3^*) - I*r_{xf} + r_{y0}*(u1*u4^* - u2*u3^*) + r_{z0}*(I*u1*u3^* - I*u2*u4^*) + I*u1*u3^* + I*u2*u4^*)"
      ]
     },
     "metadata": {},
     "output_type": "display_data"
    },
    {
     "name": "stdout",
     "output_type": "stream",
     "text": [
      "#################\n"
     ]
    },
    {
     "data": {
      "text/latex": [
       "$\\displaystyle u^{*}_{1} \\left(u_{3} \\cdot \\left(0.5 r_{z0} + 0.5\\right) + u_{4} \\cdot \\left(0.5 r_{x0} + 0.5 i r_{y0}\\right)\\right) + u^{*}_{2} \\left(u_{3} \\cdot \\left(0.5 r_{x0} - 0.5 i r_{y0}\\right) + u_{4} \\cdot \\left(0.5 - 0.5 r_{z0}\\right)\\right) = 0.5 r_{xf} + 0.5 i r_{yf}$"
      ],
      "text/plain": [
       "Eq(u1^**(u3*(0.5*r_{z0} + 0.5) + u4*(0.5*r_{x0} + 0.5*I*r_{y0})) + u2^**(u3*(0.5*r_{x0} - 0.5*I*r_{y0}) + u4*(0.5 - 0.5*r_{z0})), 0.5*r_{xf} + 0.5*I*r_{yf})"
      ]
     },
     "metadata": {},
     "output_type": "display_data"
    },
    {
     "data": {
      "text/latex": [
       "$\\displaystyle r_{yf} = r_{x0} \\left(- i u^{*}_{1} u_{4} - i u^{*}_{2} u_{3}\\right) + i r_{xf} + r_{y0} \\left(u^{*}_{1} u_{4} - u^{*}_{2} u_{3}\\right) + r_{z0} \\left(- i u^{*}_{1} u_{3} + i u^{*}_{2} u_{4}\\right) - i u^{*}_{1} u_{3} - i u^{*}_{2} u_{4}$"
      ],
      "text/plain": [
       "Eq(r_{yf}, r_{x0}*(-I*u1^**u4 - I*u2^**u3) + I*r_{xf} + r_{y0}*(u1^**u4 - u2^**u3) + r_{z0}*(-I*u1^**u3 + I*u2^**u4) - I*u1^**u3 - I*u2^**u4)"
      ]
     },
     "metadata": {},
     "output_type": "display_data"
    }
   ],
   "source": [
    "display(list_of_equations[1])\n",
    "expr_in_terms_of_x0 = sp.solve(list_of_equations[1], x[4])[0]\n",
    "collected_expr_y = sp.collect(expr_in_terms_of_x0, [x[0], x[1], x[2]])\n",
    "display(Eq(x[4], collected_expr_y))\n",
    "\n",
    "print(\"#################\")\n",
    "\n",
    "display(list_of_equations[2])\n",
    "expr_in_terms_of_x0 = sp.solve(list_of_equations[2], x[4])[0]\n",
    "collected_expr_y2 = sp.collect(expr_in_terms_of_x0, [x[0], x[1], x[2]])\n",
    "display(Eq(x[4], collected_expr_y2))"
   ]
  },
  {
   "cell_type": "code",
   "execution_count": 7,
   "id": "cd4f8f66-0ed3-4d58-a0de-b3d213e5fb4b",
   "metadata": {},
   "outputs": [
    {
     "data": {
      "text/latex": [
       "$\\displaystyle r_{x0} \\left(- i u^{*}_{1} u_{4} - i u^{*}_{2} u_{3}\\right) + i r_{xf} + r_{y0} \\left(u^{*}_{1} u_{4} - u^{*}_{2} u_{3}\\right) + r_{z0} \\left(- i u^{*}_{1} u_{3} + i u^{*}_{2} u_{4}\\right) - i u^{*}_{1} u_{3} - i u^{*}_{2} u_{4} = r_{x0} \\left(i u_{1} u^{*}_{4} + i u_{2} u^{*}_{3}\\right) - i r_{xf} + r_{y0} \\left(u_{1} u^{*}_{4} - u_{2} u^{*}_{3}\\right) + r_{z0} \\left(i u_{1} u^{*}_{3} - i u_{2} u^{*}_{4}\\right) + i u_{1} u^{*}_{3} + i u_{2} u^{*}_{4}$"
      ],
      "text/plain": [
       "Eq(r_{x0}*(-I*u1^**u4 - I*u2^**u3) + I*r_{xf} + r_{y0}*(u1^**u4 - u2^**u3) + r_{z0}*(-I*u1^**u3 + I*u2^**u4) - I*u1^**u3 - I*u2^**u4, r_{x0}*(I*u1*u4^* + I*u2*u3^*) - I*r_{xf} + r_{y0}*(u1*u4^* - u2*u3^*) + r_{z0}*(I*u1*u3^* - I*u2*u4^*) + I*u1*u3^* + I*u2*u4^*)"
      ]
     },
     "metadata": {},
     "output_type": "display_data"
    },
    {
     "data": {
      "text/latex": [
       "$\\displaystyle r_{xf} = r_{x0} \\left(\\frac{u_{1} u^{*}_{4}}{2} + \\frac{u^{*}_{1} u_{4}}{2} + \\frac{u_{2} u^{*}_{3}}{2} + \\frac{u^{*}_{2} u_{3}}{2}\\right) + r_{y0} \\left(- \\frac{i u_{1} u^{*}_{4}}{2} + \\frac{i u^{*}_{1} u_{4}}{2} + \\frac{i u_{2} u^{*}_{3}}{2} - \\frac{i u^{*}_{2} u_{3}}{2}\\right) + r_{z0} \\left(\\frac{u_{1} u^{*}_{3}}{2} + \\frac{u^{*}_{1} u_{3}}{2} - \\frac{u_{2} u^{*}_{4}}{2} - \\frac{u^{*}_{2} u_{4}}{2}\\right) + \\frac{u_{1} u^{*}_{3}}{2} + \\frac{u^{*}_{1} u_{3}}{2} + \\frac{u_{2} u^{*}_{4}}{2} + \\frac{u^{*}_{2} u_{4}}{2}$"
      ],
      "text/plain": [
       "Eq(r_{xf}, r_{x0}*(u1*u4^*/2 + u1^**u4/2 + u2*u3^*/2 + u2^**u3/2) + r_{y0}*(-I*u1*u4^*/2 + I*u1^**u4/2 + I*u2*u3^*/2 - I*u2^**u3/2) + r_{z0}*(u1*u3^*/2 + u1^**u3/2 - u2*u4^*/2 - u2^**u4/2) + u1*u3^*/2 + u1^**u3/2 + u2*u4^*/2 + u2^**u4/2)"
      ]
     },
     "metadata": {},
     "output_type": "display_data"
    }
   ],
   "source": [
    "xf = Eq(collected_expr_y2, collected_expr_y)\n",
    "display(xf)\n",
    "\n",
    "expr_in_terms_of_x0 = sp.solve(xf, x[3])[0]\n",
    "xf = sp.collect(expr_in_terms_of_x0, [x[0], x[1], x[2]])\n",
    "display(Eq(x[3], xf))"
   ]
  },
  {
   "cell_type": "code",
   "execution_count": 8,
   "id": "772eae86-d8e9-441b-a6f7-5c4f947232d5",
   "metadata": {},
   "outputs": [
    {
     "data": {
      "text/latex": [
       "$\\displaystyle \\left[\\begin{matrix}r_{x0} \\left(\\frac{u_{1} u^{*}_{4}}{2} + \\frac{u^{*}_{1} u_{4}}{2} + \\frac{u_{2} u^{*}_{3}}{2} + \\frac{u^{*}_{2} u_{3}}{2}\\right) + r_{y0} \\left(- \\frac{i u_{1} u^{*}_{4}}{2} + \\frac{i u^{*}_{1} u_{4}}{2} + \\frac{i u_{2} u^{*}_{3}}{2} - \\frac{i u^{*}_{2} u_{3}}{2}\\right) + r_{z0} \\left(\\frac{u_{1} u^{*}_{3}}{2} + \\frac{u^{*}_{1} u_{3}}{2} - \\frac{u_{2} u^{*}_{4}}{2} - \\frac{u^{*}_{2} u_{4}}{2}\\right) + \\frac{u_{1} u^{*}_{3}}{2} + \\frac{u^{*}_{1} u_{3}}{2} + \\frac{u_{2} u^{*}_{4}}{2} + \\frac{u^{*}_{2} u_{4}}{2}\\\\r_{x0} \\left(\\frac{i u_{1} u^{*}_{4}}{2} - \\frac{i u^{*}_{1} u_{4}}{2} + \\frac{i u_{2} u^{*}_{3}}{2} - \\frac{i u^{*}_{2} u_{3}}{2}\\right) + r_{y0} \\left(\\frac{u_{1} u^{*}_{4}}{2} + \\frac{u^{*}_{1} u_{4}}{2} - \\frac{u_{2} u^{*}_{3}}{2} - \\frac{u^{*}_{2} u_{3}}{2}\\right) + r_{z0} \\left(\\frac{i u_{1} u^{*}_{3}}{2} - \\frac{i u^{*}_{1} u_{3}}{2} - \\frac{i u_{2} u^{*}_{4}}{2} + \\frac{i u^{*}_{2} u_{4}}{2}\\right) + \\frac{i u_{1} u^{*}_{3}}{2} - \\frac{i u^{*}_{1} u_{3}}{2} + \\frac{i u_{2} u^{*}_{4}}{2} - \\frac{i u^{*}_{2} u_{4}}{2}\\\\r_{x0} \\left(u_{1} u^{*}_{2} + u^{*}_{1} u_{2}\\right) + r_{y0} \\left(- i u_{1} u^{*}_{2} + i u^{*}_{1} u_{2}\\right) + r_{z0} \\left(u_{1} u^{*}_{1} - u_{2} u^{*}_{2}\\right) + u_{1} u^{*}_{1} + u_{2} u^{*}_{2} - 1.0\\end{matrix}\\right]$"
      ],
      "text/plain": [
       "Matrix([\n",
       "[               r_{x0}*(u1*u4^*/2 + u1^**u4/2 + u2*u3^*/2 + u2^**u3/2) + r_{y0}*(-I*u1*u4^*/2 + I*u1^**u4/2 + I*u2*u3^*/2 - I*u2^**u3/2) + r_{z0}*(u1*u3^*/2 + u1^**u3/2 - u2*u4^*/2 - u2^**u4/2) + u1*u3^*/2 + u1^**u3/2 + u2*u4^*/2 + u2^**u4/2],\n",
       "[r_{x0}*(I*u1*u4^*/2 - I*u1^**u4/2 + I*u2*u3^*/2 - I*u2^**u3/2) + r_{y0}*(u1*u4^*/2 + u1^**u4/2 - u2*u3^*/2 - u2^**u3/2) + r_{z0}*(I*u1*u3^*/2 - I*u1^**u3/2 - I*u2*u4^*/2 + I*u2^**u4/2) + I*u1*u3^*/2 - I*u1^**u3/2 + I*u2*u4^*/2 - I*u2^**u4/2],\n",
       "[                                                                                                                             r_{x0}*(u1*u2^* + u1^**u2) + r_{y0}*(-I*u1*u2^* + I*u1^**u2) + r_{z0}*(u1*u1^* - u2*u2^*) + u1*u1^* + u2*u2^* - 1.0]])"
      ]
     },
     "metadata": {},
     "output_type": "display_data"
    }
   ],
   "source": [
    "U = Matrix([[xf],\n",
    "            [yf],\n",
    "            [collected_expr_z]])\n",
    "\n",
    "display(U)"
   ]
  }
 ],
 "metadata": {
  "kernelspec": {
   "display_name": "Python 3 (ipykernel)",
   "language": "python",
   "name": "python3"
  },
  "language_info": {
   "codemirror_mode": {
    "name": "ipython",
    "version": 3
   },
   "file_extension": ".py",
   "mimetype": "text/x-python",
   "name": "python",
   "nbconvert_exporter": "python",
   "pygments_lexer": "ipython3",
   "version": "3.12.2"
  }
 },
 "nbformat": 4,
 "nbformat_minor": 5
}
